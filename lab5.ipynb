{
 "cells": [
  {
   "cell_type": "markdown",
   "metadata": {},
   "source": [
    "<h1>Лабораторная работа №5</h1>\n",
    "<h2><i>Анализ временных рядов</i></h2>"
   ]
  },
  {
   "cell_type": "code",
   "execution_count": 1,
   "metadata": {},
   "outputs": [],
   "source": [
    "import warnings\n",
    "warnings.filterwarnings('ignore')\n",
    "import pandas as pd\n",
    "import numpy as np\n",
    "\n",
    "from fbprophet import Prophet\n",
    "\n",
    "import statsmodels.formula.api as smf\n",
    "import statsmodels.tsa.api as smt\n",
    "import statsmodels.api as sm\n",
    "import scipy.stats as scs\n",
    "from scipy.optimize import minimize\n",
    "\n",
    "import matplotlib.pyplot as plt"
   ]
  },
  {
   "cell_type": "code",
   "execution_count": 2,
   "metadata": {},
   "outputs": [
    {
     "data": {
      "text/html": [
       "<div>\n",
       "<style scoped>\n",
       "    .dataframe tbody tr th:only-of-type {\n",
       "        vertical-align: middle;\n",
       "    }\n",
       "\n",
       "    .dataframe tbody tr th {\n",
       "        vertical-align: top;\n",
       "    }\n",
       "\n",
       "    .dataframe thead th {\n",
       "        text-align: right;\n",
       "    }\n",
       "</style>\n",
       "<table border=\"1\" class=\"dataframe\">\n",
       "  <thead>\n",
       "    <tr style=\"text-align: right;\">\n",
       "      <th></th>\n",
       "      <th>DataExtractDate</th>\n",
       "      <th>ReportPeriod</th>\n",
       "      <th>Arrival_Departure</th>\n",
       "      <th>Domestic_International</th>\n",
       "      <th>FlightType</th>\n",
       "      <th>Passenger_Count</th>\n",
       "    </tr>\n",
       "  </thead>\n",
       "  <tbody>\n",
       "    <tr>\n",
       "      <th>0</th>\n",
       "      <td>2014-05-01T00:00:00</td>\n",
       "      <td>2006-01-01T00:00:00</td>\n",
       "      <td>Arrival</td>\n",
       "      <td>Domestic</td>\n",
       "      <td>Charter</td>\n",
       "      <td>2457</td>\n",
       "    </tr>\n",
       "    <tr>\n",
       "      <th>1</th>\n",
       "      <td>2014-05-01T00:00:00</td>\n",
       "      <td>2006-01-01T00:00:00</td>\n",
       "      <td>Arrival</td>\n",
       "      <td>Domestic</td>\n",
       "      <td>Commuter</td>\n",
       "      <td>139728</td>\n",
       "    </tr>\n",
       "    <tr>\n",
       "      <th>2</th>\n",
       "      <td>2014-05-01T00:00:00</td>\n",
       "      <td>2006-01-01T00:00:00</td>\n",
       "      <td>Arrival</td>\n",
       "      <td>Domestic</td>\n",
       "      <td>Scheduled Carriers</td>\n",
       "      <td>1538812</td>\n",
       "    </tr>\n",
       "    <tr>\n",
       "      <th>3</th>\n",
       "      <td>2014-05-01T00:00:00</td>\n",
       "      <td>2006-01-01T00:00:00</td>\n",
       "      <td>Arrival</td>\n",
       "      <td>International</td>\n",
       "      <td>Charter</td>\n",
       "      <td>332</td>\n",
       "    </tr>\n",
       "    <tr>\n",
       "      <th>4</th>\n",
       "      <td>2014-05-01T00:00:00</td>\n",
       "      <td>2006-01-01T00:00:00</td>\n",
       "      <td>Arrival</td>\n",
       "      <td>International</td>\n",
       "      <td>Commuter</td>\n",
       "      <td>1280</td>\n",
       "    </tr>\n",
       "  </tbody>\n",
       "</table>\n",
       "</div>"
      ],
      "text/plain": [
       "       DataExtractDate         ReportPeriod Arrival_Departure  \\\n",
       "0  2014-05-01T00:00:00  2006-01-01T00:00:00           Arrival   \n",
       "1  2014-05-01T00:00:00  2006-01-01T00:00:00           Arrival   \n",
       "2  2014-05-01T00:00:00  2006-01-01T00:00:00           Arrival   \n",
       "3  2014-05-01T00:00:00  2006-01-01T00:00:00           Arrival   \n",
       "4  2014-05-01T00:00:00  2006-01-01T00:00:00           Arrival   \n",
       "\n",
       "  Domestic_International          FlightType  Passenger_Count  \n",
       "0               Domestic             Charter             2457  \n",
       "1               Domestic            Commuter           139728  \n",
       "2               Domestic  Scheduled Carriers          1538812  \n",
       "3          International             Charter              332  \n",
       "4          International            Commuter             1280  "
      ]
     },
     "execution_count": 2,
     "metadata": {},
     "output_type": "execute_result"
    }
   ],
   "source": [
    "df_train = pd.read_csv('los-angeles-international-airport-passenger-count-by-carrier-type.csv')\n",
    "df_train.info()"
   ]
  },
  {
   "cell_type": "code",
   "execution_count": null,
   "metadata": {},
   "outputs": [],
   "source": [
    "df_train.head()"
   ]
  },
  {
   "cell_type": "code",
   "execution_count": 3,
   "metadata": {
    "scrolled": false
   },
   "outputs": [
    {
     "data": {
      "text/html": [
       "<div>\n",
       "<style scoped>\n",
       "    .dataframe tbody tr th:only-of-type {\n",
       "        vertical-align: middle;\n",
       "    }\n",
       "\n",
       "    .dataframe tbody tr th {\n",
       "        vertical-align: top;\n",
       "    }\n",
       "\n",
       "    .dataframe thead th {\n",
       "        text-align: right;\n",
       "    }\n",
       "</style>\n",
       "<table border=\"1\" class=\"dataframe\">\n",
       "  <thead>\n",
       "    <tr style=\"text-align: right;\">\n",
       "      <th></th>\n",
       "      <th>ReportPeriod</th>\n",
       "      <th>Passenger_Count</th>\n",
       "    </tr>\n",
       "  </thead>\n",
       "  <tbody>\n",
       "    <tr>\n",
       "      <th>0</th>\n",
       "      <td>2006-01-01T00:00:00</td>\n",
       "      <td>2457</td>\n",
       "    </tr>\n",
       "    <tr>\n",
       "      <th>1</th>\n",
       "      <td>2006-01-01T00:00:00</td>\n",
       "      <td>139728</td>\n",
       "    </tr>\n",
       "    <tr>\n",
       "      <th>2</th>\n",
       "      <td>2006-01-01T00:00:00</td>\n",
       "      <td>1538812</td>\n",
       "    </tr>\n",
       "    <tr>\n",
       "      <th>3</th>\n",
       "      <td>2006-01-01T00:00:00</td>\n",
       "      <td>332</td>\n",
       "    </tr>\n",
       "    <tr>\n",
       "      <th>4</th>\n",
       "      <td>2006-01-01T00:00:00</td>\n",
       "      <td>1280</td>\n",
       "    </tr>\n",
       "  </tbody>\n",
       "</table>\n",
       "</div>"
      ],
      "text/plain": [
       "          ReportPeriod  Passenger_Count\n",
       "0  2006-01-01T00:00:00             2457\n",
       "1  2006-01-01T00:00:00           139728\n",
       "2  2006-01-01T00:00:00          1538812\n",
       "3  2006-01-01T00:00:00              332\n",
       "4  2006-01-01T00:00:00             1280"
      ]
     },
     "execution_count": 3,
     "metadata": {},
     "output_type": "execute_result"
    }
   ],
   "source": [
    "filtredData = df_train[['ReportPeriod','Passenger_Count']]\n",
    "filtredData.head()"
   ]
  },
  {
   "cell_type": "code",
   "execution_count": 4,
   "metadata": {},
   "outputs": [
    {
     "name": "stdout",
     "output_type": "stream",
     "text": [
      "(154, 2)\n"
     ]
    },
    {
     "data": {
      "text/html": [
       "<div>\n",
       "<style scoped>\n",
       "    .dataframe tbody tr th:only-of-type {\n",
       "        vertical-align: middle;\n",
       "    }\n",
       "\n",
       "    .dataframe tbody tr th {\n",
       "        vertical-align: top;\n",
       "    }\n",
       "\n",
       "    .dataframe thead th {\n",
       "        text-align: right;\n",
       "    }\n",
       "</style>\n",
       "<table border=\"1\" class=\"dataframe\">\n",
       "  <thead>\n",
       "    <tr style=\"text-align: right;\">\n",
       "      <th></th>\n",
       "      <th>ReportPeriod</th>\n",
       "      <th>Passenger_Count</th>\n",
       "    </tr>\n",
       "  </thead>\n",
       "  <tbody>\n",
       "    <tr>\n",
       "      <th>149</th>\n",
       "      <td>2018-06-01</td>\n",
       "      <td>8012469</td>\n",
       "    </tr>\n",
       "    <tr>\n",
       "      <th>150</th>\n",
       "      <td>2018-07-01</td>\n",
       "      <td>8430430</td>\n",
       "    </tr>\n",
       "    <tr>\n",
       "      <th>151</th>\n",
       "      <td>2018-08-01</td>\n",
       "      <td>8137410</td>\n",
       "    </tr>\n",
       "    <tr>\n",
       "      <th>152</th>\n",
       "      <td>2018-09-01</td>\n",
       "      <td>6882524</td>\n",
       "    </tr>\n",
       "    <tr>\n",
       "      <th>153</th>\n",
       "      <td>2018-10-01</td>\n",
       "      <td>7257286</td>\n",
       "    </tr>\n",
       "  </tbody>\n",
       "</table>\n",
       "</div>"
      ],
      "text/plain": [
       "    ReportPeriod  Passenger_Count\n",
       "149   2018-06-01          8012469\n",
       "150   2018-07-01          8430430\n",
       "151   2018-08-01          8137410\n",
       "152   2018-09-01          6882524\n",
       "153   2018-10-01          7257286"
      ]
     },
     "execution_count": 4,
     "metadata": {},
     "output_type": "execute_result"
    }
   ],
   "source": [
    "groupedData = filtredData.groupby(['ReportPeriod']).sum().reset_index()\n",
    "groupedData['ReportPeriod'] = pd.to_datetime(groupedData['ReportPeriod'])\n",
    "print(groupedData.shape)\n",
    "groupedData.tail()"
   ]
  },
  {
   "cell_type": "code",
   "execution_count": 5,
   "metadata": {},
   "outputs": [],
   "source": [
    "groupedData.columns = ['ds', 'y'] # работа с Prophet\n",
    "\n",
    "predictions = 6 # количество месяцев для тестирования \n",
    "train = groupedData[:-predictions]"
   ]
  },
  {
   "cell_type": "code",
   "execution_count": 6,
   "metadata": {},
   "outputs": [
    {
     "data": {
      "text/plain": [
       "<fbprophet.forecaster.Prophet at 0x24eb2331630>"
      ]
     },
     "execution_count": 6,
     "metadata": {},
     "output_type": "execute_result"
    }
   ],
   "source": [
    "testModel = Prophet(weekly_seasonality=True, daily_seasonality=True)\n",
    "testModel.fit(train)"
   ]
  },
  {
   "cell_type": "code",
   "execution_count": 7,
   "metadata": {},
   "outputs": [
    {
     "data": {
      "text/plain": [
       "(6, 22)"
      ]
     },
     "execution_count": 7,
     "metadata": {},
     "output_type": "execute_result"
    }
   ],
   "source": [
    "testFuture = groupedData[-predictions:]\n",
    "testForecast = testModel.predict(testFuture)\n",
    "testForecast.shape"
   ]
  },
  {
   "cell_type": "code",
   "execution_count": 8,
   "metadata": {},
   "outputs": [
    {
     "data": {
      "image/png": "[encoded data removed]",
      "text/plain": [
       "<Figure size 720x432 with 1 Axes>"
      ]
     },
     "execution_count": 8,
     "metadata": {},
     "output_type": "execute_result"
    },
    {
     "data": {
      "image/png": "[encoded data removed]",
      "text/plain": [
       "<Figure size 720x432 with 1 Axes>"
      ]
     },
     "metadata": {},
     "output_type": "display_data"
    }
   ],
   "source": [
    "testModel.plot(testForecast)"
   ]
  },
  {
   "cell_type": "code",
   "execution_count": 9,
   "metadata": {},
   "outputs": [
    {
     "name": "stdout",
     "output_type": "stream",
     "text": [
      "ds, trend, yhat_lower, yhat_upper, trend_lower, trend_upper, additive_terms, additive_terms_lower, additive_terms_upper, daily, daily_lower, daily_upper, weekly, weekly_lower, weekly_upper, yearly, yearly_lower, yearly_upper, multiplicative_terms, multiplicative_terms_lower, multiplicative_terms_upper, yhat\n"
     ]
    }
   ],
   "source": [
    "print(', '.join(testForecast.columns))"
   ]
  },
  {
   "cell_type": "code",
   "execution_count": 10,
   "metadata": {},
   "outputs": [
    {
     "data": {
      "text/html": [
       "<div>\n",
       "<style scoped>\n",
       "    .dataframe tbody tr th:only-of-type {\n",
       "        vertical-align: middle;\n",
       "    }\n",
       "\n",
       "    .dataframe tbody tr th {\n",
       "        vertical-align: top;\n",
       "    }\n",
       "\n",
       "    .dataframe thead th {\n",
       "        text-align: right;\n",
       "    }\n",
       "</style>\n",
       "<table border=\"1\" class=\"dataframe\">\n",
       "  <thead>\n",
       "    <tr style=\"text-align: right;\">\n",
       "      <th></th>\n",
       "      <th>ds</th>\n",
       "      <th>yhat</th>\n",
       "      <th>y</th>\n",
       "    </tr>\n",
       "  </thead>\n",
       "  <tbody>\n",
       "    <tr>\n",
       "      <th>0</th>\n",
       "      <td>2018-05-01</td>\n",
       "      <td>7.554446e+06</td>\n",
       "      <td>7544877</td>\n",
       "    </tr>\n",
       "    <tr>\n",
       "      <th>1</th>\n",
       "      <td>2018-06-01</td>\n",
       "      <td>7.952643e+06</td>\n",
       "      <td>8012469</td>\n",
       "    </tr>\n",
       "    <tr>\n",
       "      <th>2</th>\n",
       "      <td>2018-07-01</td>\n",
       "      <td>8.385079e+06</td>\n",
       "      <td>8430430</td>\n",
       "    </tr>\n",
       "    <tr>\n",
       "      <th>3</th>\n",
       "      <td>2018-08-01</td>\n",
       "      <td>8.262422e+06</td>\n",
       "      <td>8137410</td>\n",
       "    </tr>\n",
       "    <tr>\n",
       "      <th>4</th>\n",
       "      <td>2018-09-01</td>\n",
       "      <td>7.220839e+06</td>\n",
       "      <td>6882524</td>\n",
       "    </tr>\n",
       "    <tr>\n",
       "      <th>5</th>\n",
       "      <td>2018-10-01</td>\n",
       "      <td>7.439987e+06</td>\n",
       "      <td>7257286</td>\n",
       "    </tr>\n",
       "  </tbody>\n",
       "</table>\n",
       "</div>"
      ],
      "text/plain": [
       "          ds          yhat        y\n",
       "0 2018-05-01  7.554446e+06  7544877\n",
       "1 2018-06-01  7.952643e+06  8012469\n",
       "2 2018-07-01  8.385079e+06  8430430\n",
       "3 2018-08-01  8.262422e+06  8137410\n",
       "4 2018-09-01  7.220839e+06  6882524\n",
       "5 2018-10-01  7.439987e+06  7257286"
      ]
     },
     "execution_count": 10,
     "metadata": {},
     "output_type": "execute_result"
    }
   ],
   "source": [
    "compare = testForecast.set_index('ds')[['yhat']].join(groupedData.set_index('ds'))\n",
    "compare = compare.reset_index()\n",
    "compare"
   ]
  },
  {
   "cell_type": "markdown",
   "metadata": {},
   "source": [
    "<h3>Оценка погрешности</h3>"
   ]
  },
  {
   "cell_type": "code",
   "execution_count": 11,
   "metadata": {},
   "outputs": [
    {
     "data": {
      "text/plain": [
       "1.7301228519830165"
      ]
     },
     "execution_count": 11,
     "metadata": {},
     "output_type": "execute_result"
    }
   ],
   "source": [
    "compare['difference'] = abs(compare['y'] - compare['yhat'])\n",
    "compare['error'] = 100 * (compare['difference'] / compare['y'])\n",
    "np.mean(abs(compare['error']))"
   ]
  },
  {
   "cell_type": "code",
   "execution_count": 12,
   "metadata": {},
   "outputs": [
    {
     "data": {
      "text/html": [
       "<div>\n",
       "<style scoped>\n",
       "    .dataframe tbody tr th:only-of-type {\n",
       "        vertical-align: middle;\n",
       "    }\n",
       "\n",
       "    .dataframe tbody tr th {\n",
       "        vertical-align: top;\n",
       "    }\n",
       "\n",
       "    .dataframe thead th {\n",
       "        text-align: right;\n",
       "    }\n",
       "</style>\n",
       "<table border=\"1\" class=\"dataframe\">\n",
       "  <thead>\n",
       "    <tr style=\"text-align: right;\">\n",
       "      <th></th>\n",
       "      <th>ds</th>\n",
       "      <th>trend</th>\n",
       "      <th>yhat_lower</th>\n",
       "      <th>yhat_upper</th>\n",
       "      <th>trend_lower</th>\n",
       "      <th>trend_upper</th>\n",
       "      <th>additive_terms</th>\n",
       "      <th>additive_terms_lower</th>\n",
       "      <th>additive_terms_upper</th>\n",
       "      <th>daily</th>\n",
       "      <th>...</th>\n",
       "      <th>weekly</th>\n",
       "      <th>weekly_lower</th>\n",
       "      <th>weekly_upper</th>\n",
       "      <th>yearly</th>\n",
       "      <th>yearly_lower</th>\n",
       "      <th>yearly_upper</th>\n",
       "      <th>multiplicative_terms</th>\n",
       "      <th>multiplicative_terms_lower</th>\n",
       "      <th>multiplicative_terms_upper</th>\n",
       "      <th>yhat</th>\n",
       "    </tr>\n",
       "  </thead>\n",
       "  <tbody>\n",
       "    <tr>\n",
       "      <th>0</th>\n",
       "      <td>2018-10-31</td>\n",
       "      <td>7.224981e+06</td>\n",
       "      <td>7.131128e+06</td>\n",
       "      <td>7.436402e+06</td>\n",
       "      <td>7.224981e+06</td>\n",
       "      <td>7.224981e+06</td>\n",
       "      <td>57067.205356</td>\n",
       "      <td>57067.205356</td>\n",
       "      <td>57067.205356</td>\n",
       "      <td>346605.486935</td>\n",
       "      <td>...</td>\n",
       "      <td>8160.932207</td>\n",
       "      <td>8160.932207</td>\n",
       "      <td>8160.932207</td>\n",
       "      <td>-297699.213786</td>\n",
       "      <td>-297699.213786</td>\n",
       "      <td>-297699.213786</td>\n",
       "      <td>0.0</td>\n",
       "      <td>0.0</td>\n",
       "      <td>0.0</td>\n",
       "      <td>7.282048e+06</td>\n",
       "    </tr>\n",
       "    <tr>\n",
       "      <th>1</th>\n",
       "      <td>2018-11-30</td>\n",
       "      <td>7.255888e+06</td>\n",
       "      <td>7.259355e+06</td>\n",
       "      <td>7.556535e+06</td>\n",
       "      <td>7.255433e+06</td>\n",
       "      <td>7.256729e+06</td>\n",
       "      <td>145726.399595</td>\n",
       "      <td>145726.399595</td>\n",
       "      <td>145726.399595</td>\n",
       "      <td>346605.486935</td>\n",
       "      <td>...</td>\n",
       "      <td>12327.118205</td>\n",
       "      <td>12327.118205</td>\n",
       "      <td>12327.118205</td>\n",
       "      <td>-213206.205544</td>\n",
       "      <td>-213206.205544</td>\n",
       "      <td>-213206.205544</td>\n",
       "      <td>0.0</td>\n",
       "      <td>0.0</td>\n",
       "      <td>0.0</td>\n",
       "      <td>7.401614e+06</td>\n",
       "    </tr>\n",
       "    <tr>\n",
       "      <th>2</th>\n",
       "      <td>2018-12-31</td>\n",
       "      <td>7.287824e+06</td>\n",
       "      <td>6.961808e+06</td>\n",
       "      <td>7.262243e+06</td>\n",
       "      <td>7.285520e+06</td>\n",
       "      <td>7.290649e+06</td>\n",
       "      <td>-169601.782247</td>\n",
       "      <td>-169601.782247</td>\n",
       "      <td>-169601.782247</td>\n",
       "      <td>346605.486935</td>\n",
       "      <td>...</td>\n",
       "      <td>-46580.463576</td>\n",
       "      <td>-46580.463576</td>\n",
       "      <td>-46580.463576</td>\n",
       "      <td>-469626.805606</td>\n",
       "      <td>-469626.805606</td>\n",
       "      <td>-469626.805606</td>\n",
       "      <td>0.0</td>\n",
       "      <td>0.0</td>\n",
       "      <td>0.0</td>\n",
       "      <td>7.118222e+06</td>\n",
       "    </tr>\n",
       "  </tbody>\n",
       "</table>\n",
       "<p>3 rows × 22 columns</p>\n",
       "</div>"
      ],
      "text/plain": [
       "          ds         trend    yhat_lower    yhat_upper   trend_lower  \\\n",
       "0 2018-10-31  7.224981e+06  7.131128e+06  7.436402e+06  7.224981e+06   \n",
       "1 2018-11-30  7.255888e+06  7.259355e+06  7.556535e+06  7.255433e+06   \n",
       "2 2018-12-31  7.287824e+06  6.961808e+06  7.262243e+06  7.285520e+06   \n",
       "\n",
       "    trend_upper  additive_terms  additive_terms_lower  additive_terms_upper  \\\n",
       "0  7.224981e+06    57067.205356          57067.205356          57067.205356   \n",
       "1  7.256729e+06   145726.399595         145726.399595         145726.399595   \n",
       "2  7.290649e+06  -169601.782247        -169601.782247        -169601.782247   \n",
       "\n",
       "           daily      ...             weekly  weekly_lower  weekly_upper  \\\n",
       "0  346605.486935      ...        8160.932207   8160.932207   8160.932207   \n",
       "1  346605.486935      ...       12327.118205  12327.118205  12327.118205   \n",
       "2  346605.486935      ...      -46580.463576 -46580.463576 -46580.463576   \n",
       "\n",
       "          yearly   yearly_lower   yearly_upper  multiplicative_terms  \\\n",
       "0 -297699.213786 -297699.213786 -297699.213786                   0.0   \n",
       "1 -213206.205544 -213206.205544 -213206.205544                   0.0   \n",
       "2 -469626.805606 -469626.805606 -469626.805606                   0.0   \n",
       "\n",
       "   multiplicative_terms_lower  multiplicative_terms_upper          yhat  \n",
       "0                         0.0                         0.0  7.282048e+06  \n",
       "1                         0.0                         0.0  7.401614e+06  \n",
       "2                         0.0                         0.0  7.118222e+06  \n",
       "\n",
       "[3 rows x 22 columns]"
      ]
     },
     "execution_count": 12,
     "metadata": {},
     "output_type": "execute_result"
    }
   ],
   "source": [
    "model = Prophet(weekly_seasonality=True, daily_seasonality=True)\n",
    "model.fit(groupedData)\n",
    "\n",
    "future = model.make_future_dataframe(periods = 3, freq = 'M', include_history = False)\n",
    "forecast = model.predict(future)\n",
    "forecast"
   ]
  },
  {
   "cell_type": "code",
   "execution_count": 13,
   "metadata": {},
   "outputs": [
    {
     "data": {
      "image/png": "[encoded data removed]",
      "text/plain": [
       "<Figure size 720x432 with 1 Axes>"
      ]
     },
     "execution_count": 13,
     "metadata": {},
     "output_type": "execute_result"
    },
    {
     "data": {
      "image/png": "[encoded data removed]",
      "text/plain": [
       "<Figure size 720x432 with 1 Axes>"
      ]
     },
     "metadata": {},
     "output_type": "display_data"
    }
   ],
   "source": [
    "model.plot(forecast)"
   ]
  },
  {
   "cell_type": "code",
   "execution_count": null,
   "metadata": {},
   "outputs": [],
   "source": []
  }
 ],
 "metadata": {
  "kernelspec": {
   "display_name": "Python 3",
   "language": "python",
   "name": "python3"
  },
  "language_info": {
   "codemirror_mode": {
    "name": "ipython",
    "version": 3
   },
   "file_extension": ".py",
   "mimetype": "text/x-python",
   "name": "python",
   "nbconvert_exporter": "python",
   "pygments_lexer": "ipython3",
   "version": "3.7.0"
  }
 },
 "nbformat": 4,
 "nbformat_minor": 2
}
